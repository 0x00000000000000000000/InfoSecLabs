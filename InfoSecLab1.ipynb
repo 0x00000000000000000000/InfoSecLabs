{
 "cells": [
  {
   "cell_type": "markdown",
   "metadata": {},
   "source": [
    "# Vignere Cipher"
   ]
  },
  {
   "cell_type": "code",
   "execution_count": 3,
   "metadata": {
    "ExecuteTime": {
     "end_time": "2021-08-26T12:44:09.228226Z",
     "start_time": "2021-08-26T12:43:52.616596Z"
    }
   },
   "outputs": [
    {
     "name": "stdout",
     "output_type": "stream",
     "text": [
      "1 - Encrypt\n",
      "2 - Decrypt\n",
      "Enter choice : 1\n",
      "Enter plaintext computer science\n",
      "Enter key bennett\n",
      "Enciphered - dszcymxswpvigvf\n",
      "\n",
      "1 - Encrypt\n",
      "2 - Decrypt\n",
      "Enter choice : 2\n",
      "Enter plaintext dszcymxswpvigvf\n",
      "Enter key bennett\n",
      "Deciphered - computerscience\n",
      "\n"
     ]
    }
   ],
   "source": [
    "import numpy as np\n",
    "n=0\n",
    "while(n!=2):\n",
    "    ch=int(input(\"1 - Encrypt\\n2 - Decrypt\\nEnter choice : \"))\n",
    "    cipher={chr(i+97):i for i in range(26)}\n",
    "    revcipher={i:chr(i+97) for i in range(26)}\n",
    "    p=input(\"Enter plaintext \")\n",
    "    k=input(\"Enter key \")\n",
    "    newp=p.replace(\" \",\"\")\n",
    "    kcopy=k\n",
    "    for i in range(len(newp)-len(kcopy)):\n",
    "        k+=kcopy[i%len(kcopy)]\n",
    "    parray=np.array([cipher[i] for i in newp])\n",
    "    karray=np.array([cipher[i] for i in k])\n",
    "    if(ch==1):\n",
    "        encipher=(parray+karray)%26\n",
    "        print(\"Enciphered - \"+''.join([revcipher[i] for i in encipher]))\n",
    "        print()\n",
    "    elif(ch==2):\n",
    "        decipher=(parray-karray+26)%26\n",
    "        print(\"Deciphered - \"+''.join([revcipher[i] for i in decipher]))\n",
    "        print()\n",
    "        \n",
    "    n+=1\n"
   ]
  },
  {
   "cell_type": "markdown",
   "metadata": {},
   "source": [
    "# Encrypt and Decrypt Using Fernet Module"
   ]
  },
  {
   "cell_type": "code",
   "execution_count": 9,
   "metadata": {
    "ExecuteTime": {
     "end_time": "2021-08-26T13:00:00.816850Z",
     "start_time": "2021-08-26T13:00:00.800872Z"
    }
   },
   "outputs": [
    {
     "name": "stdout",
     "output_type": "stream",
     "text": [
      "Key generated\n",
      "Key saved in variable\n"
     ]
    }
   ],
   "source": [
    "#C:/Users/RAGHAV VERMA/Documents/JupyterStuff/untitled.csv\n",
    "from cryptography.fernet import Fernet\n",
    "key = Fernet.generate_key()\n",
    "print(\"Key generated\")\n",
    "f = Fernet(key)\n",
    "print(\"Key saved in variable\")\n",
    "while(ch!=3):\n",
    "    ch=int(input(\"1 - Encrypt\\n2 - Decrypt\\nEnter choice : \"))\n",
    "    if(ch==1):\n",
    "        ch1=int(input(\"1 - String\\n2 - File\\nEnter choice : \"))\n",
    "        if(ch1==1):\n",
    "            string=input(\"Enter plaintext\").encode('utf-8')\n",
    "            enc = f.encrypt(string)\n",
    "            print(\"Ciphered text -\",enc)\n",
    "        else:\n",
    "            fp=input(\"Enter filepath \")\n",
    "            file=open(fp,'rb')\n",
    "            enc=f.encrypt(file)\n",
    "            print(\"Ciphered file -\",enc)\n",
    "\n",
    "    elif(ch==2):\n",
    "        ch1=int(input(\"1 - String\\n2 - File\\nEnter choice : \"))\n",
    "        if(ch1==1):\n",
    "            string=input(\"Enter ciphertext\").encode('utf-8')\n",
    "            dec=f.decrypt(string)\n",
    "            print(\"Deciphered text -\",dec)\n",
    "        else:\n",
    "            fb=input(\"Enter file binary ciphertext\")\n",
    "            dec=f.decrypt(fb)\n",
    "            print(\"Deciphered file -\")\n",
    "            print(fb)"
   ]
  },
  {
   "cell_type": "markdown",
   "metadata": {},
   "source": [
    "# Encrypt and Decrypt using MultiFernet"
   ]
  },
  {
   "cell_type": "code",
   "execution_count": null,
   "metadata": {},
   "outputs": [],
   "source": []
  }
 ],
 "metadata": {
  "kernelspec": {
   "display_name": "Python 3",
   "language": "python",
   "name": "python3"
  },
  "language_info": {
   "codemirror_mode": {
    "name": "ipython",
    "version": 3
   },
   "file_extension": ".py",
   "mimetype": "text/x-python",
   "name": "python",
   "nbconvert_exporter": "python",
   "pygments_lexer": "ipython3",
   "version": "3.8.5"
  },
  "varInspector": {
   "cols": {
    "lenName": 16,
    "lenType": 16,
    "lenVar": 40
   },
   "kernels_config": {
    "python": {
     "delete_cmd_postfix": "",
     "delete_cmd_prefix": "del ",
     "library": "var_list.py",
     "varRefreshCmd": "print(var_dic_list())"
    },
    "r": {
     "delete_cmd_postfix": ") ",
     "delete_cmd_prefix": "rm(",
     "library": "var_list.r",
     "varRefreshCmd": "cat(var_dic_list()) "
    }
   },
   "types_to_exclude": [
    "module",
    "function",
    "builtin_function_or_method",
    "instance",
    "_Feature"
   ],
   "window_display": false
  }
 },
 "nbformat": 4,
 "nbformat_minor": 4
}
