{
 "cells": [
  {
   "cell_type": "markdown",
   "metadata": {},
   "source": [
    "# HMAC Implementation"
   ]
  },
  {
   "cell_type": "code",
   "execution_count": 11,
   "metadata": {
    "ExecuteTime": {
     "end_time": "2021-09-11T10:55:42.801547Z",
     "start_time": "2021-09-11T10:55:31.596695Z"
    }
   },
   "outputs": [
    {
     "name": "stdout",
     "output_type": "stream",
     "text": [
      "Enter a message - trying out HMAC\n",
      "Enter the secret key - digest\n",
      "Hexdigest: f6dd987f99ed066b89cd42b06a450de34558d044\n",
      "Enter a new message for updation - digest has changed\n",
      "Hexdigest after update: dc222d13d41ff023b1780d00c031310ce7035c05\n",
      "Digest size: 20 bytes\n",
      "Block size: 64 bytes\n",
      "Canonical name: hmac-sha1\n",
      "Digest:  b'\\xdc\"-\\x13\\xd4\\x1f\\xf0#\\xb1x\\r\\x00\\xc011\\x0c\\xe7\\x03\\\\\\x05'\n",
      "Hexdigest of clone: dc222d13d41ff023b1780d00c031310ce7035c05\n"
     ]
    }
   ],
   "source": [
    "import hmac\n",
    "import hashlib\n",
    "\n",
    "msg=bytearray(input(\"Enter a message - \"), encoding ='utf-8') \n",
    "sec=bytearray(input(\"Enter the secret key - \"), encoding ='utf-8') \n",
    "\n",
    "digest_maker = hmac.new(sec, msg, hashlib.sha1)\n",
    "print (\"Hexdigest: \" + digest_maker.hexdigest())\n",
    "\n",
    "newmsg=bytearray(input(\"Enter a new message for updation - \"), encoding ='utf-8') \n",
    "digest_maker.update(newmsg)\n",
    "\n",
    "print (\"Hexdigest after update: \" + digest_maker.hexdigest())\n",
    "print (\"Digest size: \" + str(digest_maker.digest_size) + \" bytes\")\n",
    "print (\"Block size: \" + str(digest_maker.block_size) + \" bytes\")\n",
    "print (\"Canonical name: \" + digest_maker.name)\n",
    "\n",
    "print (\"Digest: \", end =\" \")\n",
    "print (digest_maker.digest())\n",
    "\n",
    "digest_clone = digest_maker.copy()\n",
    "print (\"Hexdigest of clone: \" + digest_clone.hexdigest())"
   ]
  },
  {
   "cell_type": "code",
   "execution_count": null,
   "metadata": {
    "ExecuteTime": {
     "end_time": "2021-09-11T10:52:56.358228Z",
     "start_time": "2021-09-11T10:52:56.345251Z"
    }
   },
   "outputs": [],
   "source": []
  },
  {
   "cell_type": "code",
   "execution_count": null,
   "metadata": {},
   "outputs": [],
   "source": []
  }
 ],
 "metadata": {
  "kernelspec": {
   "display_name": "Python 3",
   "language": "python",
   "name": "python3"
  },
  "language_info": {
   "codemirror_mode": {
    "name": "ipython",
    "version": 3
   },
   "file_extension": ".py",
   "mimetype": "text/x-python",
   "name": "python",
   "nbconvert_exporter": "python",
   "pygments_lexer": "ipython3",
   "version": "3.8.5"
  },
  "varInspector": {
   "cols": {
    "lenName": 16,
    "lenType": 16,
    "lenVar": 40
   },
   "kernels_config": {
    "python": {
     "delete_cmd_postfix": "",
     "delete_cmd_prefix": "del ",
     "library": "var_list.py",
     "varRefreshCmd": "print(var_dic_list())"
    },
    "r": {
     "delete_cmd_postfix": ") ",
     "delete_cmd_prefix": "rm(",
     "library": "var_list.r",
     "varRefreshCmd": "cat(var_dic_list()) "
    }
   },
   "types_to_exclude": [
    "module",
    "function",
    "builtin_function_or_method",
    "instance",
    "_Feature"
   ],
   "window_display": false
  }
 },
 "nbformat": 4,
 "nbformat_minor": 4
}
